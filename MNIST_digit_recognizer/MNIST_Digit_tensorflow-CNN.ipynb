{
 "cells": [
  {
   "cell_type": "code",
   "execution_count": 12,
   "metadata": {
    "collapsed": true
   },
   "outputs": [],
   "source": [
    "import matplotlib.pyplot as plt\n",
    "import tensorflow as tf\n",
    "import pandas as pd\n",
    "import numpy as np\n",
    "from sklearn.metrics import confusion_matrix\n",
    "import time\n",
    "from datetime import timedelta\n",
    "import math\n",
    "import random\n",
    "import os\n",
    "from sklearn.model_selection import train_test_split\n",
    "path='D:/DS/Hackathons/Kaggle/Digit recogonizer/'\n",
    "os.chdir(path)"
   ]
  },
  {
   "cell_type": "code",
   "execution_count": 13,
   "metadata": {},
   "outputs": [
    {
     "name": "stdout",
     "output_type": "stream",
     "text": [
      "(42000, 784)\n"
     ]
    }
   ],
   "source": [
    "#Import Train data and split the target and features\n",
    "filename='train.csv'\n",
    "X_train=pd.read_csv(filename)\n",
    "y_train=pd.get_dummies(X_train['label'])\n",
    "X_train.drop('label',axis=1,inplace=True)\n",
    "X_train=np.array(X_train.values)\n",
    "y_train=np.array(y_train.values)\n",
    "test_filename='test.csv'\n",
    "X_test=pd.read_csv(test_filename)\n",
    "X_test=np.array(X_test.values)\n",
    "#X_train, X_test, y_train, y_test = train_test_split(X, Y, test_size=0.33, random_state=42)\n",
    "print(X_train.shape)"
   ]
  },
  {
   "cell_type": "code",
   "execution_count": 14,
   "metadata": {},
   "outputs": [
    {
     "name": "stdout",
     "output_type": "stream",
     "text": [
      "image size: (28, 28)\n",
      "training data: 42000\n"
     ]
    }
   ],
   "source": [
    "#get the dimension of the image and # classes\n",
    "seed = 128\n",
    "rng = np.random.RandomState(seed)\n",
    "img_flat=X_train.shape[1]\n",
    "img_size=int(np.sqrt(X_train.shape[1]))\n",
    "m=X_train.shape[0]\n",
    "index_list=list(range(0,m))\n",
    "print('image size:',str((img_size,img_size)))\n",
    "print('training data:',str(m))"
   ]
  },
  {
   "cell_type": "code",
   "execution_count": 15,
   "metadata": {
    "collapsed": true
   },
   "outputs": [],
   "source": [
    "# Network Parameters\n",
    "learning_rate = 0.001\n",
    "n_epochs = 10\n",
    "batch_size = 64\n",
    "num_input = X_train.shape[1]\n",
    "num_classes = 10"
   ]
  },
  {
   "cell_type": "code",
   "execution_count": 16,
   "metadata": {},
   "outputs": [
    {
     "name": "stdout",
     "output_type": "stream",
     "text": [
      "[0 0 0 0 0 0 0 1 0 0]\n"
     ]
    },
    {
     "data": {
      "image/png": "[encoded data removed]",
      "text/plain": [
       "<matplotlib.figure.Figure at 0x1ee0094beb8>"
      ]
     },
     "metadata": {},
     "output_type": "display_data"
    }
   ],
   "source": [
    "#Visualize the input image of the numpy array\n",
    "i=504\n",
    "img_array=X_train[i,:]\n",
    "print(y_train[i,:])\n",
    "img_2d=np.reshape(img_array,(img_size,img_size))\n",
    "plt.imshow(img_2d, cmap='binary')\n",
    "plt.show()"
   ]
  },
  {
   "cell_type": "code",
   "execution_count": 18,
   "metadata": {},
   "outputs": [],
   "source": [
    "#placeholder for training data\n",
    "X = tf.placeholder(tf.float32, [None, img_flat],name='X')\n",
    "Y = tf.placeholder(tf.float32, [None, num_classes],name='Y')\n",
    "#y_true_cls = tf.placeholder(tf.int64, [None])\n",
    "keep_rate = 0.8\n",
    "# Reshape input to a 4D tensor \n",
    "x = tf.reshape(X, shape=[-1, 28, 28, 1])\n",
    "# Convolution Layer, using our function\n",
    "\n",
    "conv1 = tf.layers.conv2d(\n",
    "      inputs=x,\n",
    "      filters=32,\n",
    "      kernel_size=[5, 5],\n",
    "      padding=\"same\",\n",
    "      activation=tf.nn.relu)\n",
    "pool1 = tf.layers.max_pooling2d(inputs=conv1, pool_size=[2, 2], strides=2)\n",
    "\n",
    "conv2 = tf.layers.conv2d(\n",
    "      inputs=pool1,\n",
    "      filters=64,\n",
    "      kernel_size=[5, 5],\n",
    "      padding=\"same\",\n",
    "      activation=tf.nn.relu)\n",
    "\n",
    "pool2 = tf.layers.max_pooling2d(inputs=conv2, pool_size=[2, 2], strides=2)\n",
    "pool2_flat = tf.reshape(pool2, [-1, 7 * 7 * 64])\n",
    "dense = tf.layers.dense(inputs=pool2_flat, units=1024, activation=tf.nn.relu)\n",
    "dropout = tf.layers.dropout(inputs=dense, rate=0.4)\n",
    "logits = tf.layers.dense(inputs=dropout, units=10)\n",
    "y_pred_cls = tf.argmax(logits, axis=1)\n",
    "y_pred=tf.nn.softmax(logits)\n",
    "loss = tf.losses.softmax_cross_entropy(logits=logits,onehot_labels=Y)\n",
    "optimizer = tf.train.AdamOptimizer(learning_rate).minimize(loss)\n",
    "init = tf.global_variables_initializer()"
   ]
  },
  {
   "cell_type": "code",
   "execution_count": 20,
   "metadata": {
    "collapsed": true
   },
   "outputs": [],
   "source": [
    "def batch_data(x, y, batch_size):\n",
    "    shuffle = np.random.permutation(len(x))\n",
    "    start = 0\n",
    "    x = x[shuffle]\n",
    "    y = y[shuffle]\n",
    "    while start + batch_size <= len(x):\n",
    "        yield x[start:start+batch_size], y[start:start+batch_size]\n",
    "        start += batch_size\n",
    "    "
   ]
  },
  {
   "cell_type": "code",
   "execution_count": 21,
   "metadata": {},
   "outputs": [
    {
     "name": "stdout",
     "output_type": "stream",
     "text": [
      "epoch: 0 loss = 0.106419\n",
      "epoch: 1 loss = 0.0787396\n",
      "epoch: 2 loss = 0.0176567\n",
      "epoch: 3 loss = 0.00860818\n",
      "epoch: 4 loss = 0.00309149\n",
      "epoch: 5 loss = 0.0429696\n",
      "epoch: 6 loss = 0.00135344\n",
      "epoch: 7 loss = 0.00423888\n",
      "epoch: 8 loss = 0.0233942\n",
      "epoch: 9 loss = 0.000625527\n",
      "Optimization Finished!\n"
     ]
    }
   ],
   "source": [
    "prediction=[]\n",
    "start=0\n",
    "batch_size=100\n",
    "saver = tf.train.Saver()\n",
    "with tf.Session() as sess:\n",
    "    sess.run(init)\n",
    "    for i in range(n_epochs): # train the model n_epochs times\n",
    "        for batch_i, (source_batch, target_batch) in enumerate(batch_data(X_train, y_train, batch_size)):\n",
    "            _, loss_val =sess.run([optimizer,loss], feed_dict={X: source_batch, Y:target_batch}) \n",
    "        #if i%10==0:\n",
    "        print ('epoch:',str(i),'loss = ' + str(loss_val))\n",
    "    print('Optimization Finished!')\n",
    "    savePath = saver.save(sess, path+'my_model.ckpt')"
   ]
  },
  {
   "cell_type": "code",
   "execution_count": 24,
   "metadata": {},
   "outputs": [
    {
     "name": "stdout",
     "output_type": "stream",
     "text": [
      "INFO:tensorflow:Restoring parameters from D:/DS/Hackathons/Kaggle/Digit recogonizer/my_model.ckpt\n",
      "2\n"
     ]
    }
   ],
   "source": [
    "#Prediction:\n",
    "with tf.Session() as sess:\n",
    "    saver.restore(sess, path+'my_model.ckpt')\n",
    "    graph = tf.get_default_graph()\n",
    "    while start + batch_size <= len(X_test):\n",
    "        X_batch=X_test[start:start+batch_size]\n",
    "        pred = sess.run(y_pred_cls, feed_dict={X:X_batch})\n",
    "        prediction.extend(pred)\n",
    "        start+=batch_size\n",
    "    output=pd.DataFrame({'ImageId':range(1,28001),'Label':prediction})\n",
    "    output.to_csv('output.csv',index=False)\n",
    "    print(pred[0])"
   ]
  },
  {
   "cell_type": "code",
   "execution_count": null,
   "metadata": {
    "collapsed": true
   },
   "outputs": [],
   "source": []
  }
 ],
 "metadata": {
  "kernelspec": {
   "display_name": "Python 3",
   "language": "python",
   "name": "python3"
  },
  "language_info": {
   "codemirror_mode": {
    "name": "ipython",
    "version": 3
   },
   "file_extension": ".py",
   "mimetype": "text/x-python",
   "name": "python",
   "nbconvert_exporter": "python",
   "pygments_lexer": "ipython3",
   "version": "3.6.7"
  }
 },
 "nbformat": 4,
 "nbformat_minor": 2
}
